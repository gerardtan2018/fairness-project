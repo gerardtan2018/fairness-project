{
 "cells": [
  {
   "cell_type": "code",
   "execution_count": 1,
   "id": "b78429ab",
   "metadata": {},
   "outputs": [],
   "source": [
    "import pandas as pd"
   ]
  },
  {
   "cell_type": "code",
   "execution_count": 2,
   "id": "c346cb4c",
   "metadata": {},
   "outputs": [],
   "source": [
    "df = pd.read_csv('non_asian_out_raw.csv')"
   ]
  },
  {
   "cell_type": "code",
   "execution_count": 3,
   "id": "b57fdb99",
   "metadata": {},
   "outputs": [],
   "source": [
    "sample = pd.read_csv('non_asian_selected.csv')"
   ]
  },
  {
   "cell_type": "code",
   "execution_count": 4,
   "id": "e10aa453",
   "metadata": {},
   "outputs": [],
   "source": [
    "merge = sample.merge(df,how='inner', left_on='path', right_on='jobName')"
   ]
  },
  {
   "cell_type": "code",
   "execution_count": 5,
   "id": "fc464661",
   "metadata": {},
   "outputs": [],
   "source": [
    "merge.drop(axis=1,labels=['Unnamed: 0','client_id','path']).to_csv('aws_non_asian_results.csv',index=False)"
   ]
  },
  {
   "cell_type": "code",
   "execution_count": null,
   "id": "261f1097",
   "metadata": {},
   "outputs": [],
   "source": []
  }
 ],
 "metadata": {
  "kernelspec": {
   "display_name": "Python 3",
   "language": "python",
   "name": "python3"
  },
  "language_info": {
   "codemirror_mode": {
    "name": "ipython",
    "version": 3
   },
   "file_extension": ".py",
   "mimetype": "text/x-python",
   "name": "python",
   "nbconvert_exporter": "python",
   "pygments_lexer": "ipython3",
   "version": "3.8.8"
  }
 },
 "nbformat": 4,
 "nbformat_minor": 5
}
