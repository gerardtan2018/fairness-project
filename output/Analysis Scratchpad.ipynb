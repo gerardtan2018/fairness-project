{
 "cells": [
  {
   "cell_type": "code",
   "execution_count": 1,
   "id": "existing-peninsula",
   "metadata": {},
   "outputs": [],
   "source": [
    "import pandas as pd\n",
    "import matplotlib.pyplot as plt"
   ]
  },
  {
   "cell_type": "code",
   "execution_count": 2,
   "id": "formed-parking",
   "metadata": {},
   "outputs": [],
   "source": [
    "df = pd.read_csv('total.csv')"
   ]
  },
  {
   "cell_type": "code",
   "execution_count": 3,
   "id": "blocked-batman",
   "metadata": {},
   "outputs": [
    {
     "name": "stdout",
     "output_type": "stream",
     "text": [
      "<class 'pandas.core.frame.DataFrame'>\n",
      "RangeIndex: 2000 entries, 0 to 1999\n",
      "Data columns (total 19 columns):\n",
      " #   Column        Non-Null Count  Dtype  \n",
      "---  ------        --------------  -----  \n",
      " 0   provider      2000 non-null   object \n",
      " 1   sentence      2000 non-null   object \n",
      " 2   up_votes      2000 non-null   int64  \n",
      " 3   down_votes    2000 non-null   int64  \n",
      " 4   age           1980 non-null   object \n",
      " 5   gender        1990 non-null   object \n",
      " 6   accent        2000 non-null   object \n",
      " 7   locale        2000 non-null   object \n",
      " 8   segment       0 non-null      float64\n",
      " 9   sentence_len  2000 non-null   int64  \n",
      " 10  is_asian      2000 non-null   bool   \n",
      " 11  us_eu         2000 non-null   bool   \n",
      " 12  jobName       1000 non-null   object \n",
      " 13  transcript    1985 non-null   object \n",
      " 14  wer           2000 non-null   float64\n",
      " 15  levenshtein   2000 non-null   int64  \n",
      " 16  ser           2000 non-null   int64  \n",
      " 17  filename      1000 non-null   object \n",
      " 18  confidence    1000 non-null   float64\n",
      "dtypes: bool(2), float64(3), int64(5), object(9)\n",
      "memory usage: 269.7+ KB\n"
     ]
    }
   ],
   "source": [
    "df.info()"
   ]
  },
  {
   "cell_type": "code",
   "execution_count": 4,
   "id": "consecutive-accordance",
   "metadata": {},
   "outputs": [
    {
     "data": {
      "text/plain": [
       "array(['hongkong', 'indian', 'malaysia', 'philippines', 'singapore',\n",
       "       'australia', 'canada', 'england', 'ireland', 'newzealand',\n",
       "       'scotland', 'us', 'wales'], dtype=object)"
      ]
     },
     "execution_count": 4,
     "metadata": {},
     "output_type": "execute_result"
    }
   ],
   "source": [
    "df['accent'].unique()"
   ]
  },
  {
   "cell_type": "code",
   "execution_count": 5,
   "id": "circular-wilderness",
   "metadata": {},
   "outputs": [],
   "source": [
    "df = df[df['accent'] != 'scotland']"
   ]
  },
  {
   "cell_type": "code",
   "execution_count": 6,
   "id": "confidential-nurse",
   "metadata": {},
   "outputs": [],
   "source": [
    "df['char_len'] = df['sentence'].apply(lambda x: len(x))"
   ]
  },
  {
   "cell_type": "code",
   "execution_count": 7,
   "id": "worthy-forge",
   "metadata": {},
   "outputs": [],
   "source": [
    "compare = df[['sentence','transcript']]"
   ]
  },
  {
   "cell_type": "code",
   "execution_count": 8,
   "id": "yellow-works",
   "metadata": {},
   "outputs": [],
   "source": [
    "import collections"
   ]
  },
  {
   "cell_type": "code",
   "execution_count": 9,
   "id": "alternative-bikini",
   "metadata": {},
   "outputs": [
    {
     "name": "stdout",
     "output_type": "stream",
     "text": [
      "['at', 'first', 'they', 'were', 'considered', 'stegosaurus', 'exemplars']\n",
      "['at', 'first', 'they', 'were', 'considered', 'stegosaurus', 'exemplars']\n"
     ]
    }
   ],
   "source": [
    "word_map = collections.defaultdict(map)\n",
    "\n",
    "for i, row in compare.iterrows():\n",
    "    corpus_words = row['sentence'].split()\n",
    "    predicted_words = row['transcript'].split()\n",
    "    print(corpus_words)\n",
    "    print(predicted_words)\n",
    "    break"
   ]
  },
  {
   "cell_type": "code",
   "execution_count": 10,
   "id": "divine-constitution",
   "metadata": {},
   "outputs": [],
   "source": [
    "df['ld_normal'] = df['levenshtein'] / df['char_len']"
   ]
  },
  {
   "cell_type": "code",
   "execution_count": 11,
   "id": "intellectual-average",
   "metadata": {},
   "outputs": [],
   "source": [
    "aws = df[df['provider'] == 'Amazon']"
   ]
  },
  {
   "cell_type": "code",
   "execution_count": 12,
   "id": "appointed-lesson",
   "metadata": {},
   "outputs": [],
   "source": [
    "google = df[df['provider'] == 'Google']"
   ]
  },
  {
   "cell_type": "code",
   "execution_count": 17,
   "id": "capital-breach",
   "metadata": {},
   "outputs": [
    {
     "data": {
      "text/html": [
       "<div>\n",
       "<style scoped>\n",
       "    .dataframe tbody tr th:only-of-type {\n",
       "        vertical-align: middle;\n",
       "    }\n",
       "\n",
       "    .dataframe tbody tr th {\n",
       "        vertical-align: top;\n",
       "    }\n",
       "\n",
       "    .dataframe thead th {\n",
       "        text-align: right;\n",
       "    }\n",
       "</style>\n",
       "<table border=\"1\" class=\"dataframe\">\n",
       "  <thead>\n",
       "    <tr style=\"text-align: right;\">\n",
       "      <th></th>\n",
       "      <th>count</th>\n",
       "      <th>mean</th>\n",
       "      <th>std</th>\n",
       "      <th>min</th>\n",
       "      <th>25%</th>\n",
       "      <th>50%</th>\n",
       "      <th>75%</th>\n",
       "      <th>max</th>\n",
       "    </tr>\n",
       "    <tr>\n",
       "      <th>is_asian</th>\n",
       "      <th></th>\n",
       "      <th></th>\n",
       "      <th></th>\n",
       "      <th></th>\n",
       "      <th></th>\n",
       "      <th></th>\n",
       "      <th></th>\n",
       "      <th></th>\n",
       "    </tr>\n",
       "  </thead>\n",
       "  <tbody>\n",
       "    <tr>\n",
       "      <th>False</th>\n",
       "      <td>431.0</td>\n",
       "      <td>0.113835</td>\n",
       "      <td>0.152183</td>\n",
       "      <td>0.0</td>\n",
       "      <td>0.0</td>\n",
       "      <td>0.071429</td>\n",
       "      <td>0.166667</td>\n",
       "      <td>0.785714</td>\n",
       "    </tr>\n",
       "    <tr>\n",
       "      <th>True</th>\n",
       "      <td>500.0</td>\n",
       "      <td>0.177692</td>\n",
       "      <td>0.196396</td>\n",
       "      <td>0.0</td>\n",
       "      <td>0.0</td>\n",
       "      <td>0.142857</td>\n",
       "      <td>0.285714</td>\n",
       "      <td>1.000000</td>\n",
       "    </tr>\n",
       "  </tbody>\n",
       "</table>\n",
       "</div>"
      ],
      "text/plain": [
       "          count      mean       std  min  25%       50%       75%       max\n",
       "is_asian                                                                   \n",
       "False     431.0  0.113835  0.152183  0.0  0.0  0.071429  0.166667  0.785714\n",
       "True      500.0  0.177692  0.196396  0.0  0.0  0.142857  0.285714  1.000000"
      ]
     },
     "execution_count": 17,
     "metadata": {},
     "output_type": "execute_result"
    }
   ],
   "source": [
    "aws.groupby('is_asian')['wer'].describe()"
   ]
  },
  {
   "cell_type": "code",
   "execution_count": 18,
   "id": "wicked-lodging",
   "metadata": {},
   "outputs": [
    {
     "data": {
      "text/html": [
       "<div>\n",
       "<style scoped>\n",
       "    .dataframe tbody tr th:only-of-type {\n",
       "        vertical-align: middle;\n",
       "    }\n",
       "\n",
       "    .dataframe tbody tr th {\n",
       "        vertical-align: top;\n",
       "    }\n",
       "\n",
       "    .dataframe thead th {\n",
       "        text-align: right;\n",
       "    }\n",
       "</style>\n",
       "<table border=\"1\" class=\"dataframe\">\n",
       "  <thead>\n",
       "    <tr style=\"text-align: right;\">\n",
       "      <th></th>\n",
       "      <th>count</th>\n",
       "      <th>mean</th>\n",
       "      <th>std</th>\n",
       "      <th>min</th>\n",
       "      <th>25%</th>\n",
       "      <th>50%</th>\n",
       "      <th>75%</th>\n",
       "      <th>max</th>\n",
       "    </tr>\n",
       "    <tr>\n",
       "      <th>is_asian</th>\n",
       "      <th></th>\n",
       "      <th></th>\n",
       "      <th></th>\n",
       "      <th></th>\n",
       "      <th></th>\n",
       "      <th></th>\n",
       "      <th></th>\n",
       "      <th></th>\n",
       "    </tr>\n",
       "  </thead>\n",
       "  <tbody>\n",
       "    <tr>\n",
       "      <th>False</th>\n",
       "      <td>431.0</td>\n",
       "      <td>0.233794</td>\n",
       "      <td>0.258075</td>\n",
       "      <td>0.0</td>\n",
       "      <td>0.0</td>\n",
       "      <td>0.153846</td>\n",
       "      <td>0.36039</td>\n",
       "      <td>1.333333</td>\n",
       "    </tr>\n",
       "    <tr>\n",
       "      <th>True</th>\n",
       "      <td>500.0</td>\n",
       "      <td>0.307415</td>\n",
       "      <td>0.289443</td>\n",
       "      <td>0.0</td>\n",
       "      <td>0.0</td>\n",
       "      <td>0.250000</td>\n",
       "      <td>0.50000</td>\n",
       "      <td>1.000000</td>\n",
       "    </tr>\n",
       "  </tbody>\n",
       "</table>\n",
       "</div>"
      ],
      "text/plain": [
       "          count      mean       std  min  25%       50%      75%       max\n",
       "is_asian                                                                  \n",
       "False     431.0  0.233794  0.258075  0.0  0.0  0.153846  0.36039  1.333333\n",
       "True      500.0  0.307415  0.289443  0.0  0.0  0.250000  0.50000  1.000000"
      ]
     },
     "execution_count": 18,
     "metadata": {},
     "output_type": "execute_result"
    }
   ],
   "source": [
    "google.groupby('is_asian')['wer'].describe()"
   ]
  }
 ],
 "metadata": {
  "kernelspec": {
   "display_name": "Python 3",
   "language": "python",
   "name": "python3"
  },
  "language_info": {
   "codemirror_mode": {
    "name": "ipython",
    "version": 3
   },
   "file_extension": ".py",
   "mimetype": "text/x-python",
   "name": "python",
   "nbconvert_exporter": "python",
   "pygments_lexer": "ipython3",
   "version": "3.7.9"
  },
  "varInspector": {
   "cols": {
    "lenName": 16,
    "lenType": 16,
    "lenVar": 40
   },
   "kernels_config": {
    "python": {
     "delete_cmd_postfix": "",
     "delete_cmd_prefix": "del ",
     "library": "var_list.py",
     "varRefreshCmd": "print(var_dic_list())"
    },
    "r": {
     "delete_cmd_postfix": ") ",
     "delete_cmd_prefix": "rm(",
     "library": "var_list.r",
     "varRefreshCmd": "cat(var_dic_list()) "
    }
   },
   "types_to_exclude": [
    "module",
    "function",
    "builtin_function_or_method",
    "instance",
    "_Feature"
   ],
   "window_display": false
  }
 },
 "nbformat": 4,
 "nbformat_minor": 5
}
