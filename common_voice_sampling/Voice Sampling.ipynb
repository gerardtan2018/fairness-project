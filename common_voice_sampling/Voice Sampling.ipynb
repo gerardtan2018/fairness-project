{
 "cells": [
  {
   "cell_type": "code",
   "execution_count": 5,
   "id": "ecdaecd9",
   "metadata": {},
   "outputs": [],
   "source": [
    "import pandas as pd\n",
    "import numpy as np\n",
    "import os.path\n",
    "import glob\n",
    "import random\n",
    "import boto3\n",
    "import shutil"
   ]
  },
  {
   "cell_type": "code",
   "execution_count": 6,
   "id": "bcf5859e",
   "metadata": {},
   "outputs": [],
   "source": [
    "raw = pd.read_csv('validated.tsv', sep='\\t', header=0)"
   ]
  },
  {
   "cell_type": "code",
   "execution_count": 7,
   "id": "a1988f7e",
   "metadata": {},
   "outputs": [
    {
     "name": "stdout",
     "output_type": "stream",
     "text": [
      "<class 'pandas.core.frame.DataFrame'>\n",
      "RangeIndex: 1425784 entries, 0 to 1425783\n",
      "Data columns (total 10 columns):\n",
      " #   Column      Non-Null Count    Dtype \n",
      "---  ------      --------------    ----- \n",
      " 0   client_id   1425784 non-null  object\n",
      " 1   path        1425784 non-null  object\n",
      " 2   sentence    1425778 non-null  object\n",
      " 3   up_votes    1425784 non-null  int64 \n",
      " 4   down_votes  1425784 non-null  int64 \n",
      " 5   age         907791 non-null   object\n",
      " 6   gender      910859 non-null   object\n",
      " 7   accent      704024 non-null   object\n",
      " 8   locale      1425784 non-null  object\n",
      " 9   segment     32726 non-null    object\n",
      "dtypes: int64(2), object(8)\n",
      "memory usage: 108.8+ MB\n"
     ]
    }
   ],
   "source": [
    "raw.info()"
   ]
  },
  {
   "cell_type": "code",
   "execution_count": 8,
   "id": "22cb0ef1",
   "metadata": {},
   "outputs": [
    {
     "data": {
      "text/plain": [
       "us                351472\n",
       "england           118401\n",
       "indian             73030\n",
       "canada             48453\n",
       "australia          46951\n",
       "scotland           12676\n",
       "newzealand         11281\n",
       "other              10505\n",
       "ireland             9233\n",
       "african             8066\n",
       "philippines         4158\n",
       "singapore           2967\n",
       "hongkong            2750\n",
       "malaysia            1685\n",
       "wales               1550\n",
       "bermuda              643\n",
       "southatlandtic       203\n",
       "Name: accent, dtype: int64"
      ]
     },
     "execution_count": 8,
     "metadata": {},
     "output_type": "execute_result"
    }
   ],
   "source": [
    "accent = raw[raw.accent.notna()]\n",
    "accent.accent.value_counts()"
   ]
  },
  {
   "cell_type": "code",
   "execution_count": 9,
   "id": "3bca455e",
   "metadata": {},
   "outputs": [
    {
     "name": "stderr",
     "output_type": "stream",
     "text": [
      "<ipython-input-9-c189eb3cb503>:1: SettingWithCopyWarning: \n",
      "A value is trying to be set on a copy of a slice from a DataFrame.\n",
      "Try using .loc[row_indexer,col_indexer] = value instead\n",
      "\n",
      "See the caveats in the documentation: https://pandas.pydata.org/pandas-docs/stable/user_guide/indexing.html#returning-a-view-versus-a-copy\n",
      "  accent['sentence_len'] = accent['sentence'].apply(lambda x: len(x.split(\" \")))\n",
      "<ipython-input-9-c189eb3cb503>:2: SettingWithCopyWarning: \n",
      "A value is trying to be set on a copy of a slice from a DataFrame.\n",
      "Try using .loc[row_indexer,col_indexer] = value instead\n",
      "\n",
      "See the caveats in the documentation: https://pandas.pydata.org/pandas-docs/stable/user_guide/indexing.html#returning-a-view-versus-a-copy\n",
      "  accent['is_asian'] = accent['accent'].apply(lambda x: x in ('philippines','singapore','hongkong','malaysia', 'indian'))\n",
      "<ipython-input-9-c189eb3cb503>:3: SettingWithCopyWarning: \n",
      "A value is trying to be set on a copy of a slice from a DataFrame.\n",
      "Try using .loc[row_indexer,col_indexer] = value instead\n",
      "\n",
      "See the caveats in the documentation: https://pandas.pydata.org/pandas-docs/stable/user_guide/indexing.html#returning-a-view-versus-a-copy\n",
      "  accent['us_eu'] = accent['accent'].apply(lambda x: x in ('us','england','canada','australia', 'scotland', 'newzealand', 'ireland', 'wales'))\n"
     ]
    }
   ],
   "source": [
    "accent['sentence_len'] = accent['sentence'].apply(lambda x: len(x.split(\" \")))\n",
    "accent['is_asian'] = accent['accent'].apply(lambda x: x in ('philippines','singapore','hongkong','malaysia', 'indian'))\n",
    "accent['us_eu'] = accent['accent'].apply(lambda x: x in ('us','england','canada','australia', 'scotland', 'newzealand', 'ireland', 'wales'))"
   ]
  },
  {
   "cell_type": "code",
   "execution_count": 53,
   "id": "6a972b84",
   "metadata": {},
   "outputs": [],
   "source": [
    "all_asian = accent[accent['is_asian']]\n",
    "non_asian = accent[accent['us_eu']]\n",
    "\n",
    "all_asian = all_asian[all_asian['sentence_len'] > 1]\n",
    "non_asian = non_asian[non_asian['sentence_len'] > 1]"
   ]
  },
  {
   "cell_type": "code",
   "execution_count": 54,
   "id": "742d7c73",
   "metadata": {},
   "outputs": [],
   "source": [
    "asian_sample = all_asian.groupby('accent').sample(150)\n",
    "non_asian_sample = non_asian.groupby('accent').sample(100)"
   ]
  },
  {
   "cell_type": "code",
   "execution_count": 55,
   "id": "2bbe12bd",
   "metadata": {},
   "outputs": [
    {
     "name": "stdout",
     "output_type": "stream",
     "text": [
      "Asian_Sample: 750\n",
      "Non_Asian_Sample: 800\n"
     ]
    }
   ],
   "source": [
    "print(\"Asian_Sample: \" + str(len(asian_sample)))\n",
    "print(\"Non_Asian_Sample: \" + str(len(non_asian_sample)))"
   ]
  },
  {
   "cell_type": "code",
   "execution_count": 56,
   "id": "27a1d675",
   "metadata": {},
   "outputs": [
    {
     "data": {
      "text/plain": [
       "9.389333333333333"
      ]
     },
     "execution_count": 56,
     "metadata": {},
     "output_type": "execute_result"
    }
   ],
   "source": [
    "asian_sample.sentence_len.mean()"
   ]
  },
  {
   "cell_type": "code",
   "execution_count": 57,
   "id": "37b2ac1e",
   "metadata": {},
   "outputs": [
    {
     "data": {
      "text/plain": [
       "9.43125"
      ]
     },
     "execution_count": 57,
     "metadata": {},
     "output_type": "execute_result"
    }
   ],
   "source": [
    "non_asian_sample.sentence_len.mean()"
   ]
  },
  {
   "cell_type": "code",
   "execution_count": 58,
   "id": "2e152a92",
   "metadata": {},
   "outputs": [],
   "source": [
    "asian_sample.to_csv('asian_sample.csv')\n",
    "non_asian_sample.to_csv('non_asian_sample.csv')"
   ]
  },
  {
   "cell_type": "code",
   "execution_count": 59,
   "id": "fd5b31ec",
   "metadata": {},
   "outputs": [],
   "source": [
    "asia_group = asian_sample['path'].tolist()\n",
    "nonasia_group = non_asian_sample['path'].tolist()"
   ]
  },
  {
   "cell_type": "code",
   "execution_count": 60,
   "id": "c136a0ba",
   "metadata": {},
   "outputs": [],
   "source": [
    "def getclips(filelist, sample_size):\n",
    "    counter = 0\n",
    "    choosen = []\n",
    "    working_copy = filelist\n",
    "    while counter < sample_size:\n",
    "        if len(working_copy) == 0:\n",
    "            counter = 999\n",
    "        else:\n",
    "            ran_num = random.randint(0,len(working_copy)-1)\n",
    "            if (os.path.isfile(\"clips/{}\".format(working_copy[ran_num]))):\n",
    "                choosen.append(working_copy[ran_num])\n",
    "                del working_copy[ran_num]\n",
    "                counter += 1\n",
    "            else:\n",
    "                del working_copy[ran_num]\n",
    "    return choosen"
   ]
  },
  {
   "cell_type": "code",
   "execution_count": 61,
   "id": "b45cc212",
   "metadata": {},
   "outputs": [],
   "source": [
    "asia_clips = getclips(asia_group, 500)\n",
    "nonasia_clips = getclips(nonasia_group, 500)"
   ]
  },
  {
   "cell_type": "code",
   "execution_count": 63,
   "id": "85924367",
   "metadata": {},
   "outputs": [
    {
     "data": {
      "text/plain": [
       "500"
      ]
     },
     "execution_count": 63,
     "metadata": {},
     "output_type": "execute_result"
    }
   ],
   "source": [
    "len(asia_clips)"
   ]
  },
  {
   "cell_type": "code",
   "execution_count": 64,
   "id": "712c0158",
   "metadata": {},
   "outputs": [
    {
     "data": {
      "text/plain": [
       "500"
      ]
     },
     "execution_count": 64,
     "metadata": {},
     "output_type": "execute_result"
    }
   ],
   "source": [
    "len(nonasia_clips)"
   ]
  },
  {
   "cell_type": "code",
   "execution_count": 65,
   "id": "1b692739",
   "metadata": {},
   "outputs": [],
   "source": [
    "for clip in asia_clips:\n",
    "    original = 'C:/Users/Quok Juin/Desktop/cv-corpus-7.0-2021-07-21/en/clips/{}'.format(clip)\n",
    "    target = 'C:/Users/Quok Juin/Desktop/cv-corpus-7.0-2021-07-21/en/asian/{}'.format(clip)\n",
    "\n",
    "    shutil.copyfile(original, target)\n",
    "\n",
    "for clip in nonasia_clips:\n",
    "    original = 'C:/Users/Quok Juin/Desktop/cv-corpus-7.0-2021-07-21/en/clips/{}'.format(clip)\n",
    "    target = 'C:/Users/Quok Juin/Desktop/cv-corpus-7.0-2021-07-21/en/non_asian/{}'.format(clip)\n",
    "\n",
    "    shutil.copyfile(original, target)"
   ]
  },
  {
   "cell_type": "code",
   "execution_count": 67,
   "id": "a93bfa93",
   "metadata": {},
   "outputs": [],
   "source": [
    "asian_sample[asian_sample.path.isin(asia_clips)].to_csv('asian_selected.csv')\n",
    "non_asian_sample[non_asian_sample.path.isin(nonasia_clips)].to_csv('non_asian_selected.csv')"
   ]
  },
  {
   "cell_type": "code",
   "execution_count": null,
   "id": "51cccbb4",
   "metadata": {},
   "outputs": [],
   "source": []
  }
 ],
 "metadata": {
  "kernelspec": {
   "display_name": "Python 3",
   "language": "python",
   "name": "python3"
  },
  "language_info": {
   "codemirror_mode": {
    "name": "ipython",
    "version": 3
   },
   "file_extension": ".py",
   "mimetype": "text/x-python",
   "name": "python",
   "nbconvert_exporter": "python",
   "pygments_lexer": "ipython3",
   "version": "3.8.8"
  }
 },
 "nbformat": 4,
 "nbformat_minor": 5
}
