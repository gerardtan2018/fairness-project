{
 "cells": [
  {
   "cell_type": "code",
   "execution_count": 1,
   "id": "6ece3a81",
   "metadata": {},
   "outputs": [],
   "source": [
    "import boto3\n",
    "import pandas as pd\n",
    "import requests\n",
    "import json"
   ]
  },
  {
   "cell_type": "code",
   "execution_count": 2,
   "id": "0b74b738",
   "metadata": {},
   "outputs": [
    {
     "name": "stdout",
     "output_type": "stream",
     "text": [
      "ready!\n"
     ]
    }
   ],
   "source": [
    "aws_access_key_id=''\n",
    "aws_secret_access_key=''\n",
    "aws_session_token=''\n",
    "\n",
    "transcribe = boto3.client('transcribe',\n",
    "    aws_access_key_id=aws_access_key_id,\n",
    "    aws_secret_access_key=aws_secret_access_key,\n",
    "    aws_session_token=aws_session_token,\n",
    "    region_name='us-east-1'\n",
    "    )\n",
    "    \n",
    "s3 = boto3.resource('s3',\n",
    "    aws_access_key_id=aws_access_key_id,\n",
    "    aws_secret_access_key=aws_secret_access_key,\n",
    "    aws_session_token=aws_session_token\n",
    "    )\n",
    "\n",
    "bucket = s3.Bucket('fairness-samples')\n",
    "print(\"ready!\")"
   ]
  },
  {
   "cell_type": "code",
   "execution_count": 7,
   "id": "5c68fe52",
   "metadata": {},
   "outputs": [
    {
     "name": "stdout",
     "output_type": "stream",
     "text": [
      "common_voice_en_23801768.mp3\n",
      "common_voice_en_23803225.mp3\n",
      "common_voice_en_23803250.mp3\n",
      "common_voice_en_23803612.mp3\n",
      "common_voice_en_23815710.mp3\n",
      "common_voice_en_23815830.mp3\n",
      "common_voice_en_23820156.mp3\n"
     ]
    }
   ],
   "source": [
    "# Retrieve results of all transcription jobs\n",
    "for obj in bucket.objects.filter(Prefix='non_asian/'):\n",
    "    job_name = obj.key.split('/')[-1]\n",
    "    if job_name not in jobNameCol:\n",
    "        result = transcribe.get_transcription_job(TranscriptionJobName=job_name)\n",
    "        URI = result['TranscriptionJob']['Transcript']['TranscriptFileUri']\n",
    "        response = requests.get(URI).json()\n",
    "        print(response['jobName'])\n",
    "        filename = str(job_name.split(\".\")[0]) + \"-result.json\"\n",
    "        with open(filename, 'w') as f:\n",
    "            json.dump(response,f)\n",
    "        jobNameCol.append(response['jobName'])\n",
    "        transcript.append(response['results']['transcripts'][0]['transcript'])"
   ]
  },
  {
   "cell_type": "code",
   "execution_count": 8,
   "id": "68785cd2",
   "metadata": {},
   "outputs": [
    {
     "data": {
      "text/plain": [
       "500"
      ]
     },
     "execution_count": 8,
     "metadata": {},
     "output_type": "execute_result"
    }
   ],
   "source": [
    "len(jobNameCol)"
   ]
  },
  {
   "cell_type": "code",
   "execution_count": 9,
   "id": "ccf283ae",
   "metadata": {},
   "outputs": [],
   "source": [
    "df = pd.DataFrame(list(zip(jobNameCol, transcript)),\n",
    "               columns =['jobName', 'transcript'])"
   ]
  },
  {
   "cell_type": "code",
   "execution_count": 10,
   "id": "9ba71b44",
   "metadata": {},
   "outputs": [],
   "source": [
    "df.to_csv(\"non_asian_out_raw.csv\", index=False)"
   ]
  },
  {
   "cell_type": "code",
   "execution_count": null,
   "id": "83f7779b",
   "metadata": {},
   "outputs": [],
   "source": []
  }
 ],
 "metadata": {
  "kernelspec": {
   "display_name": "Python 3",
   "language": "python",
   "name": "python3"
  },
  "language_info": {
   "codemirror_mode": {
    "name": "ipython",
    "version": 3
   },
   "file_extension": ".py",
   "mimetype": "text/x-python",
   "name": "python",
   "nbconvert_exporter": "python",
   "pygments_lexer": "ipython3",
   "version": "3.8.8"
  }
 },
 "nbformat": 4,
 "nbformat_minor": 5
}
